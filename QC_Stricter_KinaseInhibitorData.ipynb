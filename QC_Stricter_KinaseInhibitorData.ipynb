{
 "cells": [
  {
   "cell_type": "code",
   "execution_count": 1,
   "metadata": {},
   "outputs": [],
   "source": [
    "## Quality Control for the Kinase Inhibitor\n",
    "\n"
   ]
  },
  {
   "cell_type": "code",
   "execution_count": 1,
   "metadata": {},
   "outputs": [],
   "source": [
    "import os\n",
    "import pandas as pd \n",
    "import numpy as np\n",
    "from sklearn.preprocessing import StandardScaler\n",
    "import matplotlib  as mpl\n",
    "import matplotlib.pyplot as plt\n",
    "import os, shutil, glob\n",
    "import re, math\n",
    "import seaborn as sns; sns.set(color_codes=False)\n"
   ]
  },
  {
   "cell_type": "markdown",
   "metadata": {},
   "source": [
    "### Set up plotting "
   ]
  },
  {
   "cell_type": "code",
   "execution_count": 2,
   "metadata": {},
   "outputs": [],
   "source": [
    "\n",
    "Colors = [ 'darkorange', 'cornflowerblue',\n",
    "                'forestgreen', 'red', 'yellow']\n",
    "Alpha = 0.5 \n",
    "LineWidth = 0.5\n",
    "yRange = [-5.5, 6] # range for ploting scaled data (in SD)\n",
    "FigureSize = (10, 5)\n",
    "Resolution = 300\n",
    "FontSize = 9\n",
    "Flags = []"
   ]
  },
  {
   "cell_type": "markdown",
   "metadata": {},
   "source": [
    "## Set up data to use"
   ]
  },
  {
   "cell_type": "code",
   "execution_count": 3,
   "metadata": {},
   "outputs": [
    {
     "ename": "FileNotFoundError",
     "evalue": "[Errno 2] No such file or directory: 'Datasets'",
     "output_type": "error",
     "traceback": [
      "\u001b[0;31m---------------------------------------------------------------------------\u001b[0m",
      "\u001b[0;31mFileNotFoundError\u001b[0m                         Traceback (most recent call last)",
      "\u001b[0;32m<ipython-input-3-23ae1d7c2414>\u001b[0m in \u001b[0;36m<module>\u001b[0;34m\u001b[0m\n\u001b[1;32m      1\u001b[0m \u001b[0mBaseDir\u001b[0m \u001b[0;34m=\u001b[0m \u001b[0;34m'Datasets'\u001b[0m\u001b[0;34m\u001b[0m\u001b[0;34m\u001b[0m\u001b[0m\n\u001b[0;32m----> 2\u001b[0;31m \u001b[0msorted\u001b[0m\u001b[0;34m(\u001b[0m\u001b[0mos\u001b[0m\u001b[0;34m.\u001b[0m\u001b[0mlistdir\u001b[0m\u001b[0;34m(\u001b[0m\u001b[0mBaseDir\u001b[0m\u001b[0;34m)\u001b[0m\u001b[0;34m)\u001b[0m\u001b[0;34m\u001b[0m\u001b[0;34m\u001b[0m\u001b[0m\n\u001b[0m",
      "\u001b[0;31mFileNotFoundError\u001b[0m: [Errno 2] No such file or directory: 'Datasets'"
     ]
    }
   ],
   "source": [
    "BaseDir = 'Datasets'\n",
    "sorted(os.listdir(BaseDir))"
   ]
  },
  {
   "cell_type": "code",
   "execution_count": null,
   "metadata": {},
   "outputs": [],
   "source": [
    "InputFiles = []\n",
    "NameContains = input(\"Enter part of name(s) of the file(s) of image quality data: \") # MRC5\n",
    "for f in (f for f in os.listdir(BaseDir) if ((NameContains in f) & ('qcRAW_images' in f))):\n",
    "    InputFiles.append(f)\n",
    "print ('InputFiles: ' + str(InputFiles))"
   ]
  },
  {
   "cell_type": "code",
   "execution_count": null,
   "metadata": {},
   "outputs": [],
   "source": [
    "data =  pd.DataFrame()\n",
    "ReadingFile = 0\n",
    "for file in sorted(InputFiles):\n",
    "    DataFromOneFile =  pd.read_csv(BaseDir + '/' + file, sep=\",\", low_memory=False)\n",
    "    ReadingFile += 1\n",
    "    data = data.append(DataFromOneFile.iloc[:,:], ignore_index=True)\n",
    "print ('Dataframe contains %s columns and %s rows.' %(data.shape[1], data.shape[0]))"
   ]
  },
  {
   "cell_type": "code",
   "execution_count": null,
   "metadata": {},
   "outputs": [],
   "source": []
  },
  {
   "cell_type": "markdown",
   "metadata": {},
   "source": [
    "## Limits of relevant columns"
   ]
  },
  {
   "cell_type": "code",
   "execution_count": null,
   "metadata": {},
   "outputs": [],
   "source": []
  }
 ],
 "metadata": {
  "kernelspec": {
   "display_name": "Python 3",
   "language": "python",
   "name": "python3"
  },
  "language_info": {
   "codemirror_mode": {
    "name": "ipython",
    "version": 3
   },
   "file_extension": ".py",
   "mimetype": "text/x-python",
   "name": "python",
   "nbconvert_exporter": "python",
   "pygments_lexer": "ipython3",
   "version": "3.6.9"
  }
 },
 "nbformat": 4,
 "nbformat_minor": 4
}
