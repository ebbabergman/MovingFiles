{
 "cells": [
  {
   "cell_type": "markdown",
   "metadata": {},
   "source": [
    "# Check if the images were actually sorted where they should"
   ]
  },
  {
   "cell_type": "code",
   "execution_count": null,
   "metadata": {
    "tags": []
   },
   "outputs": [],
   "source": []
  },
  {
   "cell_type": "code",
   "execution_count": 1,
   "metadata": {
    "tags": []
   },
   "outputs": [],
   "source": [
    "import pandas as pd\n",
    "import numpy as np\n",
    "import os\n",
    "import glob\n",
    "import shutil\n",
    "import csv\n",
    "import numpy as np"
   ]
  },
  {
   "cell_type": "code",
   "execution_count": 2,
   "metadata": {},
   "outputs": [],
   "source": [
    "def get_image_number_from_paths(paths):\n",
    "    image_numbers = []\n",
    "    for entry in paths:\n",
    "        split_results = entry.split('/')[-1]\n",
    "        image_number = split_results.split('.')[0]\n",
    "        image_numbers.append(float(image_number))\n",
    "    return image_numbers\n",
    "\n",
    "def intersection(lst1, lst2):\n",
    "    # from https://www.geeksforgeeks.org/python-intersection-two-lists/\n",
    "    lst3 = [value for value in lst1 if value in lst2]\n",
    "    return lst3"
   ]
  },
  {
   "cell_type": "code",
   "execution_count": 3,
   "metadata": {},
   "outputs": [],
   "source": [
    "IMAGE_NUMBER_HEADING = \"ImageNumber\""
   ]
  },
  {
   "cell_type": "code",
   "execution_count": 4,
   "metadata": {},
   "outputs": [],
   "source": [
    "input_labels_path = '/home/jovyan/Data/BBBC021/BBBC021_Labels.csv'\n",
    "#flagged_sites_path = \"\""
   ]
  },
  {
   "cell_type": "code",
   "execution_count": 5,
   "metadata": {},
   "outputs": [],
   "source": [
    "k_folds_path ='/home/jovyan/Inputs/BBBC021_All_K_folds/'\n",
    "current_k_fold = \"3\""
   ]
  },
  {
   "cell_type": "code",
   "execution_count": 6,
   "metadata": {},
   "outputs": [],
   "source": [
    "path_sorted_route  = \"/home/jovyan/Code/Leave_One_Out/\""
   ]
  },
  {
   "cell_type": "code",
   "execution_count": 7,
   "metadata": {},
   "outputs": [],
   "source": [
    "# meta_data_header = ['plate', 'well', 'site']\n",
    "# image_number_heading = \"ImageNr\""
   ]
  },
  {
   "cell_type": "code",
   "execution_count": 8,
   "metadata": {},
   "outputs": [],
   "source": [
    "meta_data_header = ['ImageNumber']\n",
    "image_number_heading = \"ImageNumber\""
   ]
  },
  {
   "cell_type": "code",
   "execution_count": 9,
   "metadata": {
    "tags": []
   },
   "outputs": [],
   "source": [
    "df_input_labels = pd.read_csv(input_labels_path, sep =\",\")\n",
    "#df_flagged_sites = pd.read_csv(flagged_sites_path, sep =\",\")\n"
   ]
  },
  {
   "cell_type": "code",
   "execution_count": 10,
   "metadata": {},
   "outputs": [],
   "source": [
    "## How sort_files reads in data paths:"
   ]
  },
  {
   "cell_type": "code",
   "execution_count": 11,
   "metadata": {},
   "outputs": [],
   "source": [
    "all_csv_files = glob.glob(k_folds_path+\"*.csv\")\n",
    "\n",
    "right_k_fold_paths = [path for path in all_csv_files if current_k_fold+\".csv\" in path]\n",
    "train_file_path = [path for path in right_k_fold_paths if ((\"train\" in path) and (not \"statistics\" in path))][0]\n",
    "validation_file_path = [path for path in right_k_fold_paths if ((\"valid\" in path) and (not \"statistics\" in path))][0]\n",
    "test_file_path = [path for path in right_k_fold_paths if ((\"test\" in path) and (not \"statistics\" in path))][0]\n"
   ]
  },
  {
   "cell_type": "code",
   "execution_count": 12,
   "metadata": {
    "tags": []
   },
   "outputs": [],
   "source": [
    "df_train = pd.read_csv(train_file_path)\n",
    "df_valid = pd.read_csv(validation_file_path)\n",
    "df_test = pd.read_csv(test_file_path)"
   ]
  },
  {
   "cell_type": "code",
   "execution_count": 13,
   "metadata": {},
   "outputs": [],
   "source": [
    "all_train_files = glob.glob(path_sorted_route+ \"Train/**/\"+\"*.png\", recursive=True)"
   ]
  },
  {
   "cell_type": "code",
   "execution_count": 14,
   "metadata": {},
   "outputs": [],
   "source": [
    "all_validation_files = glob.glob(path_sorted_route+ \"Validation/**/\"+\"*.png\", recursive=True)"
   ]
  },
  {
   "cell_type": "code",
   "execution_count": 15,
   "metadata": {},
   "outputs": [],
   "source": [
    "all_test_files = glob.glob(path_sorted_route+ \"Test/**/\"+\"*.png\", recursive=True)"
   ]
  },
  {
   "cell_type": "code",
   "execution_count": 16,
   "metadata": {},
   "outputs": [],
   "source": [
    "train_image_numbers = get_image_number_from_paths(all_train_files)\n",
    "valid_image_numbers = get_image_number_from_paths(all_validation_files)\n",
    "test_image_numbers = get_image_number_from_paths(all_test_files)"
   ]
  },
  {
   "cell_type": "code",
   "execution_count": 17,
   "metadata": {},
   "outputs": [],
   "source": [
    "#all_validation_files"
   ]
  },
  {
   "cell_type": "code",
   "execution_count": 18,
   "metadata": {},
   "outputs": [],
   "source": [
    "intended_train_numbers = df_train[IMAGE_NUMBER_HEADING].values.tolist()\n",
    "intended_valid_numbers = df_valid[IMAGE_NUMBER_HEADING].values.tolist()\n",
    "intended_test_numbers = df_test[IMAGE_NUMBER_HEADING].values.tolist()"
   ]
  },
  {
   "cell_type": "code",
   "execution_count": 19,
   "metadata": {},
   "outputs": [
    {
     "data": {
      "text/plain": [
       "[]"
      ]
     },
     "execution_count": 19,
     "metadata": {},
     "output_type": "execute_result"
    }
   ],
   "source": [
    "intersection(intended_train_numbers, train_image_numbers)"
   ]
  },
  {
   "cell_type": "code",
   "execution_count": 20,
   "metadata": {},
   "outputs": [
    {
     "data": {
      "text/plain": [
       "[]"
      ]
     },
     "execution_count": 20,
     "metadata": {},
     "output_type": "execute_result"
    }
   ],
   "source": [
    "intersection(intended_valid_numbers, valid_image_numbers)"
   ]
  },
  {
   "cell_type": "code",
   "execution_count": 23,
   "metadata": {},
   "outputs": [
    {
     "data": {
      "text/plain": [
       "700"
      ]
     },
     "execution_count": 23,
     "metadata": {},
     "output_type": "execute_result"
    }
   ],
   "source": [
    "len(intersection(intended_test_numbers, test_image_numbers))"
   ]
  },
  {
   "cell_type": "code",
   "execution_count": 25,
   "metadata": {},
   "outputs": [
    {
     "data": {
      "text/plain": [
       "700"
      ]
     },
     "execution_count": 25,
     "metadata": {},
     "output_type": "execute_result"
    }
   ],
   "source": [
    "len(intended_test_numbers)"
   ]
  },
  {
   "cell_type": "code",
   "execution_count": 27,
   "metadata": {},
   "outputs": [
    {
     "data": {
      "text/plain": [
       "700"
      ]
     },
     "execution_count": 27,
     "metadata": {},
     "output_type": "execute_result"
    }
   ],
   "source": [
    "len(intersection(intended_test_numbers, valid_image_numbers))"
   ]
  },
  {
   "cell_type": "code",
   "execution_count": 28,
   "metadata": {},
   "outputs": [
    {
     "data": {
      "text/plain": [
       "700"
      ]
     },
     "execution_count": 28,
     "metadata": {},
     "output_type": "execute_result"
    }
   ],
   "source": [
    "len(intersection(intended_test_numbers, train_image_numbers))"
   ]
  },
  {
   "cell_type": "code",
   "execution_count": null,
   "metadata": {},
   "outputs": [],
   "source": [
    "## count in folders\n",
    "find /home/jovyan/Code/Leave_One_Out/Train/ -type f | wc -l"
   ]
  }
 ],
 "metadata": {
  "kernelspec": {
   "display_name": "Python 3",
   "language": "python",
   "name": "python3"
  },
  "language_info": {
   "codemirror_mode": {
    "name": "ipython",
    "version": 3
   },
   "file_extension": ".py",
   "mimetype": "text/x-python",
   "name": "python",
   "nbconvert_exporter": "python",
   "pygments_lexer": "ipython3",
   "version": "3.6.9"
  }
 },
 "nbformat": 4,
 "nbformat_minor": 4
}
