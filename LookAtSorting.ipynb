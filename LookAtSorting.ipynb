{
 "cells": [
  {
   "cell_type": "markdown",
   "metadata": {},
   "source": [
    "# Check if the images were actually sorted where they should"
   ]
  },
  {
   "cell_type": "code",
   "execution_count": null,
   "metadata": {
    "tags": []
   },
   "outputs": [],
   "source": []
  },
  {
   "cell_type": "code",
   "execution_count": 37,
   "metadata": {
    "tags": []
   },
   "outputs": [],
   "source": [
    "import pandas as pd\n",
    "import numpy as np\n",
    "import os\n",
    "import glob\n",
    "import shutil\n",
    "import csv\n",
    "import numpy as np"
   ]
  },
  {
   "cell_type": "code",
   "execution_count": 38,
   "metadata": {},
   "outputs": [],
   "source": [
    "def get_image_number_from_paths(paths):\n",
    "    image_numbers = []\n",
    "    for entry in paths:\n",
    "        split_results = entry.split('/')[-1]\n",
    "        image_number = split_results.split('.')[0]\n",
    "        image_numbers.append(float(image_number))\n",
    "    return image_numbers\n",
    "\n",
    "def intersection(lst1, lst2):\n",
    "    # from https://www.geeksforgeeks.org/python-intersection-two-lists/\n",
    "    lst3 = [value for value in lst1 if value in lst2]\n",
    "    return lst3"
   ]
  },
  {
   "cell_type": "code",
   "execution_count": 39,
   "metadata": {},
   "outputs": [],
   "source": [
    "IMAGE_NUMBER_HEADING = \"ImageNumber\""
   ]
  },
  {
   "cell_type": "code",
   "execution_count": 40,
   "metadata": {},
   "outputs": [],
   "source": [
    "input_labels_path = '/home/jovyan/Data/BBBC021/BBBC021_Labels.csv'\n",
    "#flagged_sites_path = \"\""
   ]
  },
  {
   "cell_type": "code",
   "execution_count": 41,
   "metadata": {},
   "outputs": [],
   "source": [
    "k_folds_path ='/home/jovyan/Inputs/BBBC021_leave_one_out/'\n",
    "current_k_fold = \"38\""
   ]
  },
  {
   "cell_type": "code",
   "execution_count": 42,
   "metadata": {},
   "outputs": [],
   "source": [
    "path_sorted_route  = \"/home/jovyan/Code/Leave_One_Out/\""
   ]
  },
  {
   "cell_type": "code",
   "execution_count": 43,
   "metadata": {},
   "outputs": [],
   "source": [
    "# meta_data_header = ['plate', 'well', 'site']\n",
    "# image_number_heading = \"ImageNr\""
   ]
  },
  {
   "cell_type": "code",
   "execution_count": 44,
   "metadata": {},
   "outputs": [],
   "source": [
    "meta_data_header = ['ImageNumber']\n",
    "image_number_heading = \"ImageNumber\""
   ]
  },
  {
   "cell_type": "code",
   "execution_count": 45,
   "metadata": {
    "tags": []
   },
   "outputs": [],
   "source": [
    "df_input_labels = pd.read_csv(input_labels_path, sep =\",\")\n",
    "#df_flagged_sites = pd.read_csv(flagged_sites_path, sep =\",\")\n"
   ]
  },
  {
   "cell_type": "code",
   "execution_count": 46,
   "metadata": {},
   "outputs": [],
   "source": [
    "## How sort_files reads in data paths:"
   ]
  },
  {
   "cell_type": "code",
   "execution_count": 47,
   "metadata": {},
   "outputs": [],
   "source": [
    "all_csv_files = glob.glob(k_folds_path+\"*.csv\")\n",
    "\n",
    "right_k_fold_paths = [path for path in all_csv_files if \"_\"+current_k_fold+\".csv\" in path]\n",
    "train_file_path = [path for path in right_k_fold_paths if ((\"train\" in path) and (not \"statistics\" in path))][0]\n",
    "validation_file_path = [path for path in right_k_fold_paths if ((\"valid\" in path) and (not \"statistics\" in path))][0]\n",
    "test_file_path = [path for path in right_k_fold_paths if ((\"test\" in path) and (not \"statistics\" in path))][0]\n"
   ]
  },
  {
   "cell_type": "code",
   "execution_count": 48,
   "metadata": {
    "tags": []
   },
   "outputs": [],
   "source": [
    "df_train = pd.read_csv(train_file_path)\n",
    "df_valid = pd.read_csv(validation_file_path)\n",
    "df_test = pd.read_csv(test_file_path)"
   ]
  },
  {
   "cell_type": "code",
   "execution_count": 49,
   "metadata": {},
   "outputs": [],
   "source": [
    "all_train_files = glob.glob(path_sorted_route+ \"Train/**/\"+\"*.png\", recursive=True)"
   ]
  },
  {
   "cell_type": "code",
   "execution_count": 50,
   "metadata": {},
   "outputs": [],
   "source": [
    "all_validation_files = glob.glob(path_sorted_route+ \"Validation/**/\"+\"*.png\", recursive=True)"
   ]
  },
  {
   "cell_type": "code",
   "execution_count": 51,
   "metadata": {},
   "outputs": [],
   "source": [
    "all_test_files = glob.glob(path_sorted_route+ \"Test/**/\"+\"*.png\", recursive=True)"
   ]
  },
  {
   "cell_type": "code",
   "execution_count": 52,
   "metadata": {},
   "outputs": [],
   "source": [
    "train_image_numbers = get_image_number_from_paths(all_train_files)\n",
    "valid_image_numbers = get_image_number_from_paths(all_validation_files)\n",
    "test_image_numbers = get_image_number_from_paths(all_test_files)"
   ]
  },
  {
   "cell_type": "code",
   "execution_count": 53,
   "metadata": {},
   "outputs": [],
   "source": [
    "#all_validation_files"
   ]
  },
  {
   "cell_type": "code",
   "execution_count": 54,
   "metadata": {},
   "outputs": [],
   "source": [
    "intended_train_numbers = df_train[IMAGE_NUMBER_HEADING].values.tolist()\n",
    "intended_valid_numbers = df_valid[IMAGE_NUMBER_HEADING].values.tolist()\n",
    "intended_test_numbers = df_test[IMAGE_NUMBER_HEADING].values.tolist()"
   ]
  },
  {
   "cell_type": "code",
   "execution_count": 55,
   "metadata": {},
   "outputs": [
    {
     "data": {
      "text/plain": [
       "1884"
      ]
     },
     "execution_count": 55,
     "metadata": {},
     "output_type": "execute_result"
    }
   ],
   "source": [
    "len(intersection(intended_train_numbers, train_image_numbers))"
   ]
  },
  {
   "cell_type": "code",
   "execution_count": 56,
   "metadata": {},
   "outputs": [
    {
     "data": {
      "text/plain": [
       "2028"
      ]
     },
     "execution_count": 56,
     "metadata": {},
     "output_type": "execute_result"
    }
   ],
   "source": [
    "len(train_image_numbers)"
   ]
  },
  {
   "cell_type": "code",
   "execution_count": 57,
   "metadata": {
    "tags": []
   },
   "outputs": [
    {
     "data": {
      "text/plain": [
       "2104"
      ]
     },
     "execution_count": 57,
     "metadata": {},
     "output_type": "execute_result"
    }
   ],
   "source": [
    "len(intended_train_numbers)"
   ]
  },
  {
   "cell_type": "code",
   "execution_count": 58,
   "metadata": {},
   "outputs": [
    {
     "data": {
      "text/plain": [
       "136"
      ]
     },
     "execution_count": 58,
     "metadata": {},
     "output_type": "execute_result"
    }
   ],
   "source": [
    "len(intersection(intended_valid_numbers, valid_image_numbers))"
   ]
  },
  {
   "cell_type": "code",
   "execution_count": 59,
   "metadata": {},
   "outputs": [
    {
     "data": {
      "text/plain": [
       "260"
      ]
     },
     "execution_count": 59,
     "metadata": {},
     "output_type": "execute_result"
    }
   ],
   "source": [
    "len(valid_image_numbers)"
   ]
  },
  {
   "cell_type": "code",
   "execution_count": 60,
   "metadata": {
    "tags": []
   },
   "outputs": [
    {
     "data": {
      "text/plain": [
       "424"
      ]
     },
     "execution_count": 60,
     "metadata": {},
     "output_type": "execute_result"
    }
   ],
   "source": [
    "len(intended_valid_numbers)"
   ]
  },
  {
   "cell_type": "code",
   "execution_count": 61,
   "metadata": {},
   "outputs": [
    {
     "data": {
      "text/plain": [
       "0"
      ]
     },
     "execution_count": 61,
     "metadata": {},
     "output_type": "execute_result"
    }
   ],
   "source": [
    "len(intersection(intended_test_numbers, test_image_numbers))"
   ]
  },
  {
   "cell_type": "code",
   "execution_count": 62,
   "metadata": {},
   "outputs": [
    {
     "data": {
      "text/plain": [
       "36"
      ]
     },
     "execution_count": 62,
     "metadata": {},
     "output_type": "execute_result"
    }
   ],
   "source": [
    "len(intended_test_numbers)"
   ]
  },
  {
   "cell_type": "code",
   "execution_count": 63,
   "metadata": {},
   "outputs": [
    {
     "data": {
      "text/plain": [
       "24"
      ]
     },
     "execution_count": 63,
     "metadata": {},
     "output_type": "execute_result"
    }
   ],
   "source": [
    "len(test_image_numbers)"
   ]
  },
  {
   "cell_type": "code",
   "execution_count": 64,
   "metadata": {
    "tags": []
   },
   "outputs": [
    {
     "data": {
      "text/plain": [
       "36"
      ]
     },
     "execution_count": 64,
     "metadata": {},
     "output_type": "execute_result"
    }
   ],
   "source": [
    "len(intended_test_numbers)"
   ]
  },
  {
   "cell_type": "code",
   "execution_count": 65,
   "metadata": {},
   "outputs": [
    {
     "data": {
      "text/plain": [
       "0"
      ]
     },
     "execution_count": 65,
     "metadata": {},
     "output_type": "execute_result"
    }
   ],
   "source": [
    "len(intersection(intended_test_numbers, valid_image_numbers))"
   ]
  },
  {
   "cell_type": "code",
   "execution_count": 66,
   "metadata": {},
   "outputs": [
    {
     "data": {
      "text/plain": [
       "36"
      ]
     },
     "execution_count": 66,
     "metadata": {},
     "output_type": "execute_result"
    }
   ],
   "source": [
    "len(intersection(intended_test_numbers, train_image_numbers))"
   ]
  },
  {
   "cell_type": "code",
   "execution_count": 67,
   "metadata": {},
   "outputs": [
    {
     "data": {
      "text/plain": [
       "144"
      ]
     },
     "execution_count": 67,
     "metadata": {},
     "output_type": "execute_result"
    }
   ],
   "source": [
    "len(intersection(intended_valid_numbers, train_image_numbers))"
   ]
  },
  {
   "cell_type": "raw",
   "metadata": {},
   "source": [
    "## count in folders\n",
    "find /home/jovyan/Code/Leave_One_Out/Train/ -type f | wc -l"
   ]
  },
  {
   "cell_type": "code",
   "execution_count": 68,
   "metadata": {},
   "outputs": [
    {
     "data": {
      "text/plain": [
       "Index(['TableNumber', 'Original_ImageNumber', 'Image_FileName_DAPI',\n",
       "       'Image_PathName_DAPI', 'Image_FileName_Tubulin',\n",
       "       'Image_PathName_Tubulin', 'Image_FileName_Actin',\n",
       "       'Image_PathName_Actin', 'Image_Metadata_Plate_DAPI',\n",
       "       'Image_Metadata_Well_DAPI', 'Replicate', 'ImageNumber', 'compound',\n",
       "       'concentration', 'moa', 'k-fold'],\n",
       "      dtype='object')"
      ]
     },
     "execution_count": 68,
     "metadata": {},
     "output_type": "execute_result"
    }
   ],
   "source": [
    "df_train.columns"
   ]
  },
  {
   "cell_type": "code",
   "execution_count": 80,
   "metadata": {},
   "outputs": [
    {
     "data": {
      "text/plain": [
       "moa\n",
       "Actin disruptors             2\n",
       "Aurora kinase inhibitors     2\n",
       "Cholesterol-lowering         1\n",
       "DNA damage                   3\n",
       "DNA replication              3\n",
       "Eg5 inhibitors               1\n",
       "Epithelial                   2\n",
       "Kinase inhibitors            2\n",
       "Microtubule destabilizers    3\n",
       "Microtubule stabilizers      2\n",
       "Protein degradation          3\n",
       "Protein synthesis            2\n",
       "Name: compound, dtype: int64"
      ]
     },
     "execution_count": 80,
     "metadata": {},
     "output_type": "execute_result"
    }
   ],
   "source": [
    "df_train.groupby(\"moa\")[\"compound\"].nunique()"
   ]
  },
  {
   "cell_type": "code",
   "execution_count": 72,
   "metadata": {},
   "outputs": [
    {
     "data": {
      "text/plain": [
       "moa\n",
       "Actin disruptors             3\n",
       "Aurora kinase inhibitors     3\n",
       "Cholesterol-lowering         2\n",
       "DMSO                         1\n",
       "DNA damage                   4\n",
       "DNA replication              4\n",
       "Eg5 inhibitors               2\n",
       "Epithelial                   3\n",
       "Kinase inhibitors            3\n",
       "Microtubule destabilizers    4\n",
       "Microtubule stabilizers      3\n",
       "Protein degradation          4\n",
       "Protein synthesis            3\n",
       "Name: compound, dtype: int64"
      ]
     },
     "execution_count": 72,
     "metadata": {},
     "output_type": "execute_result"
    }
   ],
   "source": [
    "df_input_labels.groupby(\"moa\")[\"compound\"].nunique()"
   ]
  },
  {
   "cell_type": "code",
   "execution_count": 81,
   "metadata": {},
   "outputs": [
    {
     "data": {
      "text/plain": [
       "moa\n",
       "Actin disruptors               [cytochalasin B, cytochalasin D, latrunculin B]\n",
       "Aurora kinase inhibitors                                  [AZ258, AZ841, AZ-A]\n",
       "Cholesterol-lowering                       [mevinolin/lovastatin, simvastatin]\n",
       "DMSO                                                                    [DMSO]\n",
       "DNA damage                   [chlorambucil, cisplatin, etoposide, mitomycin C]\n",
       "DNA replication              [camptothecin, floxuridine, methotrexate, mito...\n",
       "Eg5 inhibitors                                                   [AZ138, AZ-C]\n",
       "Epithelial                                                  [PP-2, AZ-J, AZ-U]\n",
       "Kinase inhibitors                      [alsterpaullone, bryostatin, PD-169316]\n",
       "Microtubule destabilizers    [colchicine, demecolcine, nocodazole, vincrist...\n",
       "Microtubule stabilizers                       [docetaxel, epothilone B, taxol]\n",
       "Protein degradation          [ALLN, lactacystin, MG-132, proteasome inhibit...\n",
       "Protein synthesis                         [anisomycin, cyclohexamide, emetine]\n",
       "Name: compound, dtype: object"
      ]
     },
     "execution_count": 81,
     "metadata": {},
     "output_type": "execute_result"
    }
   ],
   "source": [
    "df_input_labels.groupby(\"moa\")[\"compound\"].unique()"
   ]
  },
  {
   "cell_type": "code",
   "execution_count": null,
   "metadata": {},
   "outputs": [],
   "source": []
  },
  {
   "cell_type": "code",
   "execution_count": 76,
   "metadata": {},
   "outputs": [
    {
     "data": {
      "text/plain": [
       "moa\n",
       "Actin disruptors                       [cytochalasin D, latrunculin B]\n",
       "Aurora kinase inhibitors                                 [AZ258, AZ-A]\n",
       "Cholesterol-lowering                            [mevinolin/lovastatin]\n",
       "DNA damage                        [chlorambucil, cisplatin, etoposide]\n",
       "DNA replication              [floxuridine, methotrexate, mitoxantrone]\n",
       "Eg5 inhibitors                                                 [AZ138]\n",
       "Epithelial                                                [PP-2, AZ-U]\n",
       "Kinase inhibitors                         [alsterpaullone, bryostatin]\n",
       "Microtubule destabilizers       [colchicine, demecolcine, vincristine]\n",
       "Microtubule stabilizers                          [epothilone B, taxol]\n",
       "Protein degradation                        [ALLN, lactacystin, MG-132]\n",
       "Protein synthesis                             [cyclohexamide, emetine]\n",
       "Name: compound, dtype: object"
      ]
     },
     "execution_count": 76,
     "metadata": {},
     "output_type": "execute_result"
    }
   ],
   "source": [
    "df_train.groupby(\"moa\")[\"compound\"].unique()"
   ]
  },
  {
   "cell_type": "code",
   "execution_count": 78,
   "metadata": {},
   "outputs": [
    {
     "data": {
      "text/plain": [
       "moa\n",
       "Actin disruptors                     [cytochalasin B]\n",
       "Aurora kinase inhibitors                      [AZ841]\n",
       "Cholesterol-lowering                    [simvastatin]\n",
       "DNA damage                              [mitomycin C]\n",
       "DNA replication                        [camptothecin]\n",
       "Eg5 inhibitors                                 [AZ-C]\n",
       "Epithelial                                     [AZ-J]\n",
       "Kinase inhibitors                         [PD-169316]\n",
       "Microtubule destabilizers                [nocodazole]\n",
       "Microtubule stabilizers                   [docetaxel]\n",
       "Protein degradation          [proteasome inhibitor I]\n",
       "Protein synthesis                        [anisomycin]\n",
       "Name: compound, dtype: object"
      ]
     },
     "execution_count": 78,
     "metadata": {},
     "output_type": "execute_result"
    }
   ],
   "source": [
    "df_valid.groupby(\"moa\")[\"compound\"].unique()"
   ]
  },
  {
   "cell_type": "code",
   "execution_count": 79,
   "metadata": {},
   "outputs": [
    {
     "data": {
      "text/plain": [
       "moa\n",
       "Protein synthesis    [emetine]\n",
       "Name: compound, dtype: object"
      ]
     },
     "execution_count": 79,
     "metadata": {},
     "output_type": "execute_result"
    }
   ],
   "source": [
    "df_test.groupby(\"moa\")[\"compound\"].unique()"
   ]
  },
  {
   "cell_type": "code",
   "execution_count": null,
   "metadata": {},
   "outputs": [],
   "source": []
  }
 ],
 "metadata": {
  "kernelspec": {
   "display_name": "Python 3",
   "language": "python",
   "name": "python3"
  },
  "language_info": {
   "codemirror_mode": {
    "name": "ipython",
    "version": 3
   },
   "file_extension": ".py",
   "mimetype": "text/x-python",
   "name": "python",
   "nbconvert_exporter": "python",
   "pygments_lexer": "ipython3",
   "version": "3.6.9"
  },
  "vscode": {
   "interpreter": {
    "hash": "31f2aee4e71d21fbe5cf8b01ff0e069b9275f58929596ceb00d14d90e3e16cd6"
   }
  }
 },
 "nbformat": 4,
 "nbformat_minor": 4
}
