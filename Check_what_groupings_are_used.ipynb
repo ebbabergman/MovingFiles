{
 "cells": [
  {
   "cell_type": "markdown",
   "metadata": {},
   "source": [
    "## Check what groupings are used"
   ]
  },
  {
   "cell_type": "code",
   "execution_count": 31,
   "metadata": {},
   "outputs": [],
   "source": [
    "import pandas as pd\n",
    "import numpy as np\n",
    "import os\n",
    "import glob\n",
    "import shutil\n",
    "import csv\n",
    "import numpy as np"
   ]
  },
  {
   "cell_type": "code",
   "execution_count": 32,
   "metadata": {},
   "outputs": [],
   "source": [
    "input_labels_path = '/home/jovyan/Data/Specs/Specs_Labels_First_MiPhHo.csv'\n",
    "flagged_sites_path = \"/home/jovyan/Data/Specs/Flaggs/old_MiPhHo_Labels_images_outside_nuclei_cut_82_149_no_sorbitol.csv\""
   ]
  },
  {
   "cell_type": "code",
   "execution_count": 33,
   "metadata": {},
   "outputs": [],
   "source": [
    "k_folds_path ='/home/jovyan/Inputs/SPECS_Nuclei_Cutoff_no_sorbitol_small_images_all_K_folds/'\n",
    "current_k_fold = \"3\""
   ]
  },
  {
   "cell_type": "code",
   "execution_count": 34,
   "metadata": {},
   "outputs": [],
   "source": [
    "meta_data_header = ['plate', 'well', 'site']\n",
    "image_number_heading = \"ImageNr\""
   ]
  },
  {
   "cell_type": "code",
   "execution_count": 35,
   "metadata": {
    "tags": []
   },
   "outputs": [],
   "source": [
    "df_input_labels = pd.read_csv(input_labels_path, sep =\",\")\n",
    "df_flagged_sites = pd.read_csv(flagged_sites_path, sep =\",\")\n"
   ]
  },
  {
   "cell_type": "code",
   "execution_count": 36,
   "metadata": {},
   "outputs": [],
   "source": [
    "## How sort_files reads in data paths:"
   ]
  },
  {
   "cell_type": "code",
   "execution_count": 37,
   "metadata": {},
   "outputs": [],
   "source": [
    "all_csv_files = glob.glob(k_folds_path+\"*.csv\")\n",
    "\n",
    "right_k_fold_paths = [path for path in all_csv_files if current_k_fold in path]\n",
    "train_file_path = [path for path in right_k_fold_paths if \"train\" and not \"statistics\" in path][0]\n",
    "validation_file_path = [path for path in right_k_fold_paths if \"valid\" and not \"statistics\" in path][0]\n",
    "test_file_path = [path for path in right_k_fold_paths if \"test\" and not \"statistics\" in path][0]\n"
   ]
  },
  {
   "cell_type": "code",
   "execution_count": 38,
   "metadata": {},
   "outputs": [],
   "source": [
    "df_train = pd.read_csv(train_file_path)\n",
    "df_valid = pd.read_csv(validation_file_path)\n",
    "df_test = pd.read_csv(test_file_path)"
   ]
  },
  {
   "cell_type": "code",
   "execution_count": 39,
   "metadata": {},
   "outputs": [
    {
     "data": {
      "text/plain": [
       "Index(['ImageNr', 'site', 'well', 'plate', 'plate_acquisition_id', 'batch_id',\n",
       "       'compound_id', 'cmpd_conc', 'compound_name', 'concentration',\n",
       "       'pert_type', 'moa', 'selected_mechanism'],\n",
       "      dtype='object')"
      ]
     },
     "execution_count": 39,
     "metadata": {},
     "output_type": "execute_result"
    }
   ],
   "source": [
    "df_train.columns"
   ]
  },
  {
   "cell_type": "code",
   "execution_count": 40,
   "metadata": {},
   "outputs": [],
   "source": [
    "df_used = pd.concat([df_train,df_valid,df_test])"
   ]
  },
  {
   "cell_type": "code",
   "execution_count": 41,
   "metadata": {},
   "outputs": [
    {
     "data": {
      "text/plain": [
       "Index(['ImageNr', 'site', 'well', 'plate', 'plate_acquisition_id', 'batch_id',\n",
       "       'compound_id', 'cmpd_conc', 'compound_name', 'concentration',\n",
       "       'pert_type', 'moa', 'selected_mechanism'],\n",
       "      dtype='object')"
      ]
     },
     "execution_count": 41,
     "metadata": {},
     "output_type": "execute_result"
    }
   ],
   "source": [
    "df_used.columns"
   ]
  },
  {
   "cell_type": "code",
   "execution_count": 42,
   "metadata": {},
   "outputs": [],
   "source": [
    "df_merged = pd.merge(df_used,df_flagged_sites, on = meta_data_header, how = \"outer\", indicator = True ) \n"
   ]
  },
  {
   "cell_type": "code",
   "execution_count": 43,
   "metadata": {},
   "outputs": [],
   "source": [
    "merge_both_mask = df_merged[\"_merge\"] == \"both\" \n",
    "merge_left_mask = df_merged[\"_merge\"] == \"left_only\" \n",
    "merge_right_mask = df_merged[\"_merge\"] == \"right_only\" \n"
   ]
  },
  {
   "cell_type": "code",
   "execution_count": 44,
   "metadata": {
    "tags": []
   },
   "outputs": [
    {
     "data": {
      "text/plain": [
       "(32175, 20)"
      ]
     },
     "execution_count": 44,
     "metadata": {},
     "output_type": "execute_result"
    }
   ],
   "source": [
    "df_merged[merge_right_mask].shape"
   ]
  },
  {
   "cell_type": "code",
   "execution_count": 45,
   "metadata": {},
   "outputs": [
    {
     "data": {
      "text/plain": [
       "(18303, 20)"
      ]
     },
     "execution_count": 45,
     "metadata": {},
     "output_type": "execute_result"
    }
   ],
   "source": [
    "df_merged[merge_left_mask].shape"
   ]
  },
  {
   "cell_type": "code",
   "execution_count": 46,
   "metadata": {},
   "outputs": [
    {
     "data": {
      "text/plain": [
       "(0, 20)"
      ]
     },
     "execution_count": 46,
     "metadata": {},
     "output_type": "execute_result"
    }
   ],
   "source": [
    "# should be 0 , X\n",
    "df_merged[merge_both_mask].shape"
   ]
  },
  {
   "cell_type": "code",
   "execution_count": 47,
   "metadata": {},
   "outputs": [
    {
     "data": {
      "text/plain": [
       "(52902, 13)"
      ]
     },
     "execution_count": 47,
     "metadata": {},
     "output_type": "execute_result"
    }
   ],
   "source": [
    "df_input_labels.shape"
   ]
  },
  {
   "cell_type": "markdown",
   "metadata": {},
   "source": [
    "## What selected mechanisms are used?"
   ]
  },
  {
   "cell_type": "code",
   "execution_count": 48,
   "metadata": {},
   "outputs": [],
   "source": [
    "grouping = \"selected_mechanism\""
   ]
  },
  {
   "cell_type": "code",
   "execution_count": 49,
   "metadata": {},
   "outputs": [
    {
     "data": {
      "text/plain": [
       "29"
      ]
     },
     "execution_count": 49,
     "metadata": {},
     "output_type": "execute_result"
    }
   ],
   "source": [
    "df_train[grouping].nunique()"
   ]
  },
  {
   "cell_type": "code",
   "execution_count": 50,
   "metadata": {},
   "outputs": [
    {
     "data": {
      "text/plain": [
       "29"
      ]
     },
     "execution_count": 50,
     "metadata": {},
     "output_type": "execute_result"
    }
   ],
   "source": [
    "df_test[grouping].nunique()"
   ]
  },
  {
   "cell_type": "code",
   "execution_count": 51,
   "metadata": {},
   "outputs": [
    {
     "data": {
      "text/plain": [
       "['pregnane x receptor agonist',\n",
       " 'DILI',\n",
       " 'estrogen receptor alpha modulator',\n",
       " 'tubulin polymerization inhibitor',\n",
       " 'topoisomerase inhibitor',\n",
       " 'heat shock response signalling agonist',\n",
       " 'methyltransferase inhibitor',\n",
       " 'aryl hydrocarbon receptor agonist',\n",
       " 'estrogen receptor alpha agonist',\n",
       " 'mitochondrial toxicity  agonist',\n",
       " 'retinoid receptor agonist',\n",
       " 'protein synthesis inhibitor',\n",
       " 'phosphodiesterase inhibitor',\n",
       " 'DNA polymerase inhibitor',\n",
       " 'mTOR inhibitor',\n",
       " 'PPAR receptor agonist',\n",
       " 'glucocorticoid receptor agonist',\n",
       " 'ATPase inhibitor',\n",
       " 'cyclooxygenase inhibitor',\n",
       " 'NFkB pathway inhibitor',\n",
       " 'angiotensin converting enzyme inhibitor',\n",
       " 'adenosine receptor antagonist',\n",
       " 'PARP inhibitor',\n",
       " 'JAK inhibitor',\n",
       " 'HSP inhibitor',\n",
       " 'HDAC inhibitor',\n",
       " 'CC chemokine receptor antagonist',\n",
       " 'Aurora kinase inhibitor',\n",
       " 'negcon']"
      ]
     },
     "execution_count": 51,
     "metadata": {},
     "output_type": "execute_result"
    }
   ],
   "source": [
    "list(df_valid[grouping].unique())"
   ]
  },
  {
   "cell_type": "code",
   "execution_count": 52,
   "metadata": {},
   "outputs": [
    {
     "data": {
      "text/plain": [
       "29"
      ]
     },
     "execution_count": 52,
     "metadata": {},
     "output_type": "execute_result"
    }
   ],
   "source": [
    " df_valid[grouping].nunique()"
   ]
  },
  {
   "cell_type": "code",
   "execution_count": 53,
   "metadata": {},
   "outputs": [],
   "source": [
    "k_fold_1_unique = ['pregnane x receptor agonist',\n",
    " 'DILI',\n",
    " 'estrogen receptor alpha modulator',\n",
    " 'tubulin polymerization inhibitor',\n",
    " 'topoisomerase inhibitor',\n",
    " 'heat shock response signalling agonist',\n",
    " 'methyltransferase inhibitor',\n",
    " 'aryl hydrocarbon receptor agonist',\n",
    " 'estrogen receptor alpha agonist',\n",
    " 'mitochondrial toxicity  agonist',\n",
    " 'retinoid receptor agonist',\n",
    " 'protein synthesis inhibitor',\n",
    " 'phosphodiesterase inhibitor',\n",
    " 'DNA polymerase inhibitor',\n",
    " 'mTOR inhibitor',\n",
    " 'PPAR receptor agonist',\n",
    " 'glucocorticoid receptor agonist',\n",
    " 'ATPase inhibitor',\n",
    " 'cyclooxygenase inhibitor',\n",
    " 'NFkB pathway inhibitor',\n",
    " 'angiotensin converting enzyme inhibitor',\n",
    " 'adenosine receptor antagonist',\n",
    " 'PARP inhibitor',\n",
    " 'JAK inhibitor',\n",
    " 'HSP inhibitor',\n",
    " 'HDAC inhibitor',\n",
    " 'CC chemokine receptor antagonist',\n",
    " 'Aurora kinase inhibitor',\n",
    " 'negcon']"
   ]
  },
  {
   "cell_type": "code",
   "execution_count": null,
   "metadata": {},
   "outputs": [],
   "source": []
  }
 ],
 "metadata": {
  "kernelspec": {
   "display_name": "Python 3",
   "language": "python",
   "name": "python3"
  },
  "language_info": {
   "codemirror_mode": {
    "name": "ipython",
    "version": 3
   },
   "file_extension": ".py",
   "mimetype": "text/x-python",
   "name": "python",
   "nbconvert_exporter": "python",
   "pygments_lexer": "ipython3",
   "version": "3.6.9"
  }
 },
 "nbformat": 4,
 "nbformat_minor": 4
}
